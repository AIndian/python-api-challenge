{
 "cells": [
  {
   "cell_type": "markdown",
   "metadata": {},
   "source": [
    "# WeatherPy\n",
    "----\n",
    "\n",
    "#### Note\n",
    "* Instructions have been included for each segment. You do not have to follow them exactly, but they are included to help you think through the steps."
   ]
  },
  {
   "cell_type": "raw",
   "metadata": {},
   "source": [
    "Observations:\n",
    "(1) As Latitude increases in the northern hemisphere, the maximum temperature drops\n",
    "(2) There is no observable correlation between City Latitude and Cloudiness\n",
    "(3) Assuming the Law of Large Numbers is true and the randomly selected cities are truly random, there are more countries with a humidity greater than 60 than there are less than 60"
   ]
  },
  {
   "cell_type": "code",
   "execution_count": 2,
   "metadata": {
    "scrolled": true
   },
   "outputs": [],
   "source": [
    "# Dependencies and Setup\n",
    "import matplotlib.pyplot as plt\n",
    "import pandas as pd\n",
    "import numpy as np\n",
    "import requests\n",
    "import time\n",
    "import json\n",
    "import os\n",
    "import requests\n",
    "from scipy.stats import linregress as lg\n",
    "\n",
    "# Import API key\n",
    "from api_keys import weather_api_key\n",
    "\n",
    "# Incorporated citipy to determine city based on latitude and longitude\n",
    "from citipy import citipy\n",
    "\n",
    "# Output File (CSV)\n",
    "output_data_file = \"output_data/cities.csv\"\n",
    "\n",
    "# Range of latitudes and longitudes\n",
    "lat_range = (-90, 90)\n",
    "lng_range = (-180, 180)"
   ]
  },
  {
   "cell_type": "markdown",
   "metadata": {},
   "source": [
    "## Generate Cities List"
   ]
  },
  {
   "cell_type": "code",
   "execution_count": 3,
   "metadata": {},
   "outputs": [
    {
     "data": {
      "text/plain": [
       "626"
      ]
     },
     "execution_count": 3,
     "metadata": {},
     "output_type": "execute_result"
    }
   ],
   "source": [
    "# List for holding lat_lngs and cities\n",
    "lat_lngs = []\n",
    "cities = []\n",
    "\n",
    "# Create a set of random lat and lng combinations\n",
    "lats = np.random.uniform(lat_range[0], lat_range[1], size=1500)\n",
    "lngs = np.random.uniform(lng_range[0], lng_range[1], size=1500)\n",
    "lat_lngs = zip(lats, lngs)\n",
    "\n",
    "# Identify nearest city for each lat, lng combination\n",
    "for lat_lng in lat_lngs:\n",
    "    city = citipy.nearest_city(lat_lng[0], lat_lng[1]).city_name\n",
    "    \n",
    "    # If the city is unique, then add it to a our cities list\n",
    "    if city not in cities:\n",
    "        cities.append(city)\n",
    "\n",
    "# Print the city count to confirm sufficient count\n",
    "len(cities)"
   ]
  },
  {
   "cell_type": "markdown",
   "metadata": {},
   "source": [
    "### Perform API Calls\n",
    "* Perform a weather check on each city using a series of successive API calls.\n",
    "* Include a print log of each city as it'sbeing processed (with the city number and city name).\n"
   ]
  },
  {
   "cell_type": "code",
   "execution_count": 4,
   "metadata": {
    "scrolled": true
   },
   "outputs": [
    {
     "name": "stdout",
     "output_type": "stream",
     "text": [
      "Beginning Data Retrieval\n",
      "-----------------------------\n",
      "Processing Record 1 of Set 1 | charters towers\n",
      "Processing Record 2 of Set 1 | sistranda\n",
      "Processing Record 3 of Set 1 | hami\n",
      "Processing Record 4 of Set 1 | ancud\n",
      "Processing Record 5 of Set 1 | ahipara\n",
      "Processing Record 6 of Set 1 | moskovskiy\n",
      "Processing Record 7 of Set 1 | bathsheba\n",
      "Processing Record 8 of Set 1 | tuktoyaktuk\n",
      "Processing Record 9 of Set 1 | bethel\n",
      "Processing Record 10 of Set 1 | torbay\n",
      "City not found. Skipping...\n",
      "Processing Record 11 of Set 1 | georgetown\n",
      "Processing Record 12 of Set 1 | darhan\n",
      "Processing Record 13 of Set 1 | severo-kurilsk\n",
      "Processing Record 14 of Set 1 | saldanha\n",
      "Processing Record 15 of Set 1 | puerto ayora\n",
      "City not found. Skipping...\n",
      "Processing Record 16 of Set 1 | alpena\n",
      "Processing Record 17 of Set 1 | kapaa\n",
      "Processing Record 18 of Set 1 | port alfred\n",
      "Processing Record 19 of Set 1 | maues\n",
      "Processing Record 20 of Set 1 | saint george\n",
      "Processing Record 21 of Set 1 | cabedelo\n",
      "Processing Record 22 of Set 1 | los llanos de aridane\n",
      "Processing Record 23 of Set 1 | bandundu\n",
      "Processing Record 24 of Set 1 | lagunas\n",
      "Processing Record 25 of Set 1 | upernavik\n",
      "Processing Record 26 of Set 1 | punta arenas\n",
      "Processing Record 27 of Set 1 | souillac\n",
      "Processing Record 28 of Set 1 | atuona\n",
      "Processing Record 29 of Set 1 | chuy\n",
      "Processing Record 30 of Set 1 | rikitea\n",
      "Processing Record 31 of Set 1 | new norfolk\n",
      "City not found. Skipping...\n",
      "Processing Record 32 of Set 1 | evensk\n",
      "Processing Record 33 of Set 1 | pimenta bueno\n",
      "Processing Record 34 of Set 1 | carnarvon\n",
      "Processing Record 35 of Set 1 | avarua\n",
      "Processing Record 36 of Set 1 | guerrero negro\n",
      "Processing Record 37 of Set 1 | junin\n",
      "Processing Record 38 of Set 1 | boysun\n",
      "Processing Record 39 of Set 1 | ilulissat\n",
      "Processing Record 40 of Set 1 | calabozo\n",
      "Processing Record 41 of Set 1 | nikolskoye\n",
      "Processing Record 42 of Set 1 | vaini\n",
      "Processing Record 43 of Set 1 | hilo\n",
      "Processing Record 44 of Set 1 | olafsvik\n",
      "Processing Record 45 of Set 1 | saskylakh\n",
      "Processing Record 46 of Set 1 | castro\n",
      "Processing Record 47 of Set 1 | minna\n",
      "Processing Record 48 of Set 1 | phuket\n",
      "Processing Record 49 of Set 1 | wamba\n",
      "City not found. Skipping...\n",
      "Processing Record 50 of Set 1 | hobart\n",
      "Processing Record 1 of Set 2 | kodiak\n",
      "Processing Record 2 of Set 2 | suluq\n",
      "Processing Record 3 of Set 2 | port lincoln\n",
      "Processing Record 4 of Set 2 | cayenne\n",
      "Processing Record 5 of Set 2 | barrow\n",
      "Processing Record 6 of Set 2 | nordfjordeid\n",
      "Processing Record 7 of Set 2 | hasaki\n",
      "Processing Record 8 of Set 2 | vestmannaeyjar\n",
      "Processing Record 9 of Set 2 | churapcha\n",
      "Processing Record 10 of Set 2 | arraial do cabo\n",
      "Processing Record 11 of Set 2 | tasiilaq\n",
      "Processing Record 12 of Set 2 | cidreira\n",
      "Processing Record 13 of Set 2 | ukiah\n",
      "City not found. Skipping...\n",
      "City not found. Skipping...\n",
      "Processing Record 14 of Set 2 | ostrovnoy\n",
      "Processing Record 15 of Set 2 | emerald\n",
      "Processing Record 16 of Set 2 | port hardy\n",
      "Processing Record 17 of Set 2 | rawson\n",
      "Processing Record 18 of Set 2 | salto\n",
      "City not found. Skipping...\n",
      "Processing Record 19 of Set 2 | butaritari\n",
      "Processing Record 20 of Set 2 | port elizabeth\n",
      "Processing Record 21 of Set 2 | namatanai\n",
      "Processing Record 22 of Set 2 | ushuaia\n",
      "Processing Record 23 of Set 2 | thompson\n",
      "Processing Record 24 of Set 2 | doha\n",
      "Processing Record 25 of Set 2 | ratnagiri\n",
      "Processing Record 26 of Set 2 | muros\n",
      "City not found. Skipping...\n",
      "Processing Record 27 of Set 2 | mataura\n",
      "Processing Record 28 of Set 2 | mar del plata\n",
      "Processing Record 29 of Set 2 | ciudad bolivar\n",
      "Processing Record 30 of Set 2 | christchurch\n",
      "Processing Record 31 of Set 2 | mastung\n",
      "Processing Record 32 of Set 2 | sorland\n",
      "Processing Record 33 of Set 2 | vardo\n",
      "Processing Record 34 of Set 2 | kiama\n",
      "Processing Record 35 of Set 2 | saint-francois\n",
      "City not found. Skipping...\n",
      "Processing Record 36 of Set 2 | la ronge\n",
      "Processing Record 37 of Set 2 | safranbolu\n",
      "City not found. Skipping...\n",
      "Processing Record 38 of Set 2 | young\n",
      "Processing Record 39 of Set 2 | busselton\n",
      "Processing Record 40 of Set 2 | wahpeton\n",
      "Processing Record 41 of Set 2 | severo-yeniseyskiy\n",
      "Processing Record 42 of Set 2 | bluff\n",
      "Processing Record 43 of Set 2 | aripuana\n",
      "Processing Record 44 of Set 2 | yellowknife\n",
      "Processing Record 45 of Set 2 | kasongo\n",
      "Processing Record 46 of Set 2 | guiratinga\n",
      "Processing Record 47 of Set 2 | adre\n",
      "Processing Record 48 of Set 2 | saint-philippe\n",
      "Processing Record 49 of Set 2 | odessa\n",
      "Processing Record 50 of Set 2 | tari\n",
      "Processing Record 1 of Set 3 | cape town\n",
      "Processing Record 2 of Set 3 | vila velha\n",
      "Processing Record 3 of Set 3 | west richland\n",
      "Processing Record 4 of Set 3 | ust-ishim\n",
      "Processing Record 5 of Set 3 | smithers\n",
      "Processing Record 6 of Set 3 | awbari\n",
      "Processing Record 7 of Set 3 | wuwei\n",
      "Processing Record 8 of Set 3 | tongren\n",
      "City not found. Skipping...\n",
      "Processing Record 9 of Set 3 | mount isa\n",
      "Processing Record 10 of Set 3 | havre-saint-pierre\n",
      "Processing Record 11 of Set 3 | constitucion\n",
      "Processing Record 12 of Set 3 | alofi\n",
      "Processing Record 13 of Set 3 | tuatapere\n",
      "City not found. Skipping...\n",
      "Processing Record 14 of Set 3 | khatanga\n",
      "Processing Record 15 of Set 3 | pouembout\n",
      "Processing Record 16 of Set 3 | klaksvik\n",
      "Processing Record 17 of Set 3 | fereydun kenar\n",
      "Processing Record 18 of Set 3 | shawinigan\n",
      "Processing Record 19 of Set 3 | meulaboh\n",
      "Processing Record 20 of Set 3 | albany\n",
      "Processing Record 21 of Set 3 | esperance\n",
      "Processing Record 22 of Set 3 | udachnyy\n",
      "Processing Record 23 of Set 3 | qaanaaq\n",
      "Processing Record 24 of Set 3 | airai\n",
      "Processing Record 25 of Set 3 | half moon bay\n",
      "Processing Record 26 of Set 3 | sisimiut\n",
      "Processing Record 27 of Set 3 | margate\n",
      "Processing Record 28 of Set 3 | mpanda\n",
      "Processing Record 29 of Set 3 | kaitangata\n",
      "Processing Record 30 of Set 3 | sarangani\n",
      "Processing Record 31 of Set 3 | cockburn town\n",
      "Processing Record 32 of Set 3 | soverato\n",
      "Processing Record 33 of Set 3 | hermanus\n",
      "Processing Record 34 of Set 3 | lexington\n",
      "Processing Record 35 of Set 3 | longyearbyen\n",
      "Processing Record 36 of Set 3 | bredasdorp\n",
      "Processing Record 37 of Set 3 | broome\n",
      "Processing Record 38 of Set 3 | port-gentil\n",
      "Processing Record 39 of Set 3 | alangayam\n",
      "Processing Record 40 of Set 3 | chebsara\n",
      "Processing Record 41 of Set 3 | palmer\n",
      "City not found. Skipping...\n",
      "Processing Record 42 of Set 3 | iqaluit\n",
      "Processing Record 43 of Set 3 | aguimes\n",
      "Processing Record 44 of Set 3 | harlingen\n",
      "Processing Record 45 of Set 3 | ulaanbaatar\n",
      "Processing Record 46 of Set 3 | provideniya\n",
      "Processing Record 47 of Set 3 | lompoc\n",
      "Processing Record 48 of Set 3 | vila franca do campo\n",
      "Processing Record 49 of Set 3 | flin flon\n",
      "Processing Record 50 of Set 3 | coatesville\n",
      "Processing Record 1 of Set 4 | agua verde\n",
      "Processing Record 2 of Set 4 | east london\n",
      "Processing Record 3 of Set 4 | jamestown\n",
      "Processing Record 4 of Set 4 | isangel\n",
      "Processing Record 5 of Set 4 | sioux lookout\n",
      "Processing Record 6 of Set 4 | kavieng\n",
      "Processing Record 7 of Set 4 | brownwood\n",
      "Processing Record 8 of Set 4 | port hedland\n",
      "Processing Record 9 of Set 4 | cherskiy\n",
      "Processing Record 10 of Set 4 | tiksi\n",
      "Processing Record 11 of Set 4 | bayji\n",
      "Processing Record 12 of Set 4 | kudahuvadhoo\n",
      "Processing Record 13 of Set 4 | holme\n",
      "Processing Record 14 of Set 4 | soyo\n",
      "Processing Record 15 of Set 4 | luderitz\n",
      "Processing Record 16 of Set 4 | santa maria\n",
      "Processing Record 17 of Set 4 | san patricio\n",
      "Processing Record 18 of Set 4 | yulara\n",
      "Processing Record 19 of Set 4 | lubango\n",
      "Processing Record 20 of Set 4 | babu\n",
      "Processing Record 21 of Set 4 | richards bay\n",
      "City not found. Skipping...\n",
      "Processing Record 22 of Set 4 | cabo san lucas\n",
      "Processing Record 23 of Set 4 | lebu\n",
      "Processing Record 24 of Set 4 | terra santa\n",
      "City not found. Skipping...\n",
      "Processing Record 25 of Set 4 | marawi\n",
      "Processing Record 26 of Set 4 | nelson bay\n",
      "Processing Record 27 of Set 4 | pevek\n",
      "City not found. Skipping...\n",
      "Processing Record 28 of Set 4 | litovko\n",
      "Processing Record 29 of Set 4 | jibuti\n",
      "City not found. Skipping...\n",
      "Processing Record 30 of Set 4 | carutapera\n",
      "City not found. Skipping...\n",
      "Processing Record 31 of Set 4 | tecoanapa\n",
      "Processing Record 32 of Set 4 | chulumani\n",
      "Processing Record 33 of Set 4 | shumskiy\n",
      "Processing Record 34 of Set 4 | candolim\n",
      "Processing Record 35 of Set 4 | bowen\n"
     ]
    },
    {
     "name": "stdout",
     "output_type": "stream",
     "text": [
      "Processing Record 36 of Set 4 | namibe\n",
      "Processing Record 37 of Set 4 | dikson\n",
      "Processing Record 38 of Set 4 | sao gabriel da cachoeira\n",
      "City not found. Skipping...\n",
      "Processing Record 39 of Set 4 | houma\n",
      "Processing Record 40 of Set 4 | sechura\n",
      "Processing Record 41 of Set 4 | pisco\n",
      "Processing Record 42 of Set 4 | aklavik\n",
      "Processing Record 43 of Set 4 | vienna\n",
      "Processing Record 44 of Set 4 | nouadhibou\n",
      "Processing Record 45 of Set 4 | faanui\n",
      "Processing Record 46 of Set 4 | balkanabat\n",
      "Processing Record 47 of Set 4 | san cristobal\n",
      "Processing Record 48 of Set 4 | ballina\n",
      "City not found. Skipping...\n",
      "Processing Record 49 of Set 4 | fort nelson\n",
      "Processing Record 50 of Set 4 | sao filipe\n",
      "Processing Record 1 of Set 5 | verkhnyaya inta\n",
      "Processing Record 2 of Set 5 | sur\n",
      "Processing Record 3 of Set 5 | comodoro rivadavia\n",
      "Processing Record 4 of Set 5 | yumen\n",
      "City not found. Skipping...\n",
      "Processing Record 5 of Set 5 | lavrentiya\n",
      "City not found. Skipping...\n",
      "Processing Record 6 of Set 5 | tieli\n",
      "Processing Record 7 of Set 5 | wailuku\n",
      "Processing Record 8 of Set 5 | mujiayingzi\n",
      "Processing Record 9 of Set 5 | ucluelet\n",
      "City not found. Skipping...\n",
      "Processing Record 10 of Set 5 | ribeira grande\n",
      "Processing Record 11 of Set 5 | ambanja\n",
      "Processing Record 12 of Set 5 | praia da vitoria\n",
      "Processing Record 13 of Set 5 | nagato\n",
      "Processing Record 14 of Set 5 | syracuse\n",
      "Processing Record 15 of Set 5 | mahebourg\n",
      "Processing Record 16 of Set 5 | batemans bay\n",
      "Processing Record 17 of Set 5 | rocha\n",
      "Processing Record 18 of Set 5 | meadow lake\n",
      "City not found. Skipping...\n",
      "Processing Record 19 of Set 5 | clyde river\n",
      "Processing Record 20 of Set 5 | eyl\n",
      "Processing Record 21 of Set 5 | jalu\n",
      "Processing Record 22 of Set 5 | kruisfontein\n",
      "Processing Record 23 of Set 5 | sitka\n",
      "Processing Record 24 of Set 5 | piedras negras\n",
      "Processing Record 25 of Set 5 | broken hill\n",
      "Processing Record 26 of Set 5 | ishigaki\n",
      "Processing Record 27 of Set 5 | hamilton\n",
      "Processing Record 28 of Set 5 | kobryn\n",
      "Processing Record 29 of Set 5 | saint-augustin\n",
      "Processing Record 30 of Set 5 | torit\n",
      "Processing Record 31 of Set 5 | mayo\n",
      "Processing Record 32 of Set 5 | naze\n",
      "Processing Record 33 of Set 5 | naters\n",
      "Processing Record 34 of Set 5 | baden-baden\n",
      "Processing Record 35 of Set 5 | lufilufi\n",
      "City not found. Skipping...\n",
      "Processing Record 36 of Set 5 | joshimath\n",
      "Processing Record 37 of Set 5 | zaria\n",
      "Processing Record 38 of Set 5 | nanortalik\n",
      "Processing Record 39 of Set 5 | gap\n",
      "Processing Record 40 of Set 5 | waingapu\n",
      "Processing Record 41 of Set 5 | thessalon\n",
      "Processing Record 42 of Set 5 | torbat-e jam\n",
      "Processing Record 43 of Set 5 | te anau\n",
      "Processing Record 44 of Set 5 | colares\n",
      "Processing Record 45 of Set 5 | victoria\n",
      "Processing Record 46 of Set 5 | kachiry\n",
      "Processing Record 47 of Set 5 | monterey\n",
      "Processing Record 48 of Set 5 | bengkulu\n",
      "Processing Record 49 of Set 5 | barabinsk\n",
      "City not found. Skipping...\n",
      "Processing Record 50 of Set 5 | bud\n",
      "Processing Record 1 of Set 6 | redmond\n",
      "Processing Record 2 of Set 6 | geraldton\n",
      "Processing Record 3 of Set 6 | pitea\n",
      "City not found. Skipping...\n",
      "Processing Record 4 of Set 6 | kununurra\n",
      "Processing Record 5 of Set 6 | russellville\n",
      "Processing Record 6 of Set 6 | beaverlodge\n",
      "Processing Record 7 of Set 6 | garowe\n",
      "Processing Record 8 of Set 6 | gigmoto\n",
      "Processing Record 9 of Set 6 | tigil\n",
      "Processing Record 10 of Set 6 | vavozh\n",
      "Processing Record 11 of Set 6 | mazamet\n",
      "Processing Record 12 of Set 6 | ginir\n",
      "City not found. Skipping...\n",
      "Processing Record 13 of Set 6 | presidente medici\n",
      "Processing Record 14 of Set 6 | esfarayen\n",
      "Processing Record 15 of Set 6 | labuhan\n",
      "Processing Record 16 of Set 6 | san quintin\n",
      "Processing Record 17 of Set 6 | hwange\n",
      "Processing Record 18 of Set 6 | farafenni\n",
      "Processing Record 19 of Set 6 | touros\n",
      "Processing Record 20 of Set 6 | aginskoye\n",
      "Processing Record 21 of Set 6 | solnechnyy\n",
      "Processing Record 22 of Set 6 | trelew\n",
      "City not found. Skipping...\n",
      "Processing Record 23 of Set 6 | camacha\n",
      "Processing Record 24 of Set 6 | sept-iles\n",
      "Processing Record 25 of Set 6 | antequera\n",
      "Processing Record 26 of Set 6 | kaspiysk\n",
      "Processing Record 27 of Set 6 | verkhniy lomov\n",
      "City not found. Skipping...\n",
      "Processing Record 28 of Set 6 | chicama\n",
      "Processing Record 29 of Set 6 | coquimbo\n",
      "Processing Record 30 of Set 6 | belaya gora\n",
      "Processing Record 31 of Set 6 | quelimane\n",
      "Processing Record 32 of Set 6 | sao jose da coroa grande\n",
      "Processing Record 33 of Set 6 | wajima\n",
      "Processing Record 34 of Set 6 | mtwara\n",
      "Processing Record 35 of Set 6 | afrikanda\n",
      "Processing Record 36 of Set 6 | guira de melena\n",
      "Processing Record 37 of Set 6 | mubi\n",
      "Processing Record 38 of Set 6 | ponta delgada\n",
      "Processing Record 39 of Set 6 | puerto escondido\n",
      "Processing Record 40 of Set 6 | morgan city\n",
      "Processing Record 41 of Set 6 | dhidhdhoo\n",
      "Processing Record 42 of Set 6 | antropovo\n",
      "Processing Record 43 of Set 6 | tazmalt\n",
      "Processing Record 44 of Set 6 | hambantota\n",
      "Processing Record 45 of Set 6 | vestmanna\n",
      "Processing Record 46 of Set 6 | zuwarah\n",
      "Processing Record 47 of Set 6 | peniche\n",
      "Processing Record 48 of Set 6 | lazaro cardenas\n",
      "City not found. Skipping...\n",
      "Processing Record 49 of Set 6 | sola\n",
      "Processing Record 50 of Set 6 | malanje\n",
      "Processing Record 1 of Set 7 | prince rupert\n",
      "Processing Record 2 of Set 7 | yar-sale\n",
      "Processing Record 3 of Set 7 | starobaltachevo\n",
      "Processing Record 4 of Set 7 | talnakh\n",
      "Processing Record 5 of Set 7 | tomatlan\n",
      "Processing Record 6 of Set 7 | progreso\n",
      "Processing Record 7 of Set 7 | singaraja\n",
      "Processing Record 8 of Set 7 | sampit\n",
      "Processing Record 9 of Set 7 | laguna\n",
      "Processing Record 10 of Set 7 | hithadhoo\n",
      "Processing Record 11 of Set 7 | pemangkat\n",
      "Processing Record 12 of Set 7 | eureka\n",
      "City not found. Skipping...\n",
      "City not found. Skipping...\n",
      "Processing Record 13 of Set 7 | kiruna\n",
      "Processing Record 14 of Set 7 | bambous virieux\n",
      "Processing Record 15 of Set 7 | olinda\n",
      "Processing Record 16 of Set 7 | pandan\n",
      "Processing Record 17 of Set 7 | pavlivka\n",
      "Processing Record 18 of Set 7 | abalak\n",
      "Processing Record 19 of Set 7 | kysyl-syr\n",
      "City not found. Skipping...\n",
      "Processing Record 20 of Set 7 | huron\n",
      "Processing Record 21 of Set 7 | punalur\n",
      "Processing Record 22 of Set 7 | crailsheim\n",
      "Processing Record 23 of Set 7 | komsomolskiy\n",
      "Processing Record 24 of Set 7 | ponta do sol\n",
      "Processing Record 25 of Set 7 | honiara\n",
      "Processing Record 26 of Set 7 | tabou\n",
      "Processing Record 27 of Set 7 | chokurdakh\n",
      "Processing Record 28 of Set 7 | razdolnoye\n",
      "Processing Record 29 of Set 7 | port hawkesbury\n",
      "City not found. Skipping...\n",
      "Processing Record 30 of Set 7 | vostok\n",
      "Processing Record 31 of Set 7 | tete\n",
      "Processing Record 32 of Set 7 | ola\n",
      "Processing Record 33 of Set 7 | vadinsk\n",
      "Processing Record 34 of Set 7 | norman wells\n",
      "Processing Record 35 of Set 7 | quixada\n",
      "Processing Record 36 of Set 7 | spring valley\n",
      "Processing Record 37 of Set 7 | marzuq\n",
      "Processing Record 38 of Set 7 | kpandae\n",
      "Processing Record 39 of Set 7 | port macquarie\n",
      "City not found. Skipping...\n",
      "Processing Record 40 of Set 7 | msanga\n",
      "Processing Record 41 of Set 7 | dagua\n",
      "Processing Record 42 of Set 7 | sabha\n",
      "Processing Record 43 of Set 7 | grindavik\n",
      "City not found. Skipping...\n",
      "Processing Record 44 of Set 7 | todos santos\n",
      "Processing Record 45 of Set 7 | omboue\n",
      "Processing Record 46 of Set 7 | katsuura\n",
      "Processing Record 47 of Set 7 | tamandare\n",
      "Processing Record 48 of Set 7 | fairbanks\n",
      "Processing Record 49 of Set 7 | taoudenni\n",
      "Processing Record 50 of Set 7 | itaituba\n",
      "Processing Record 1 of Set 8 | amol\n",
      "Processing Record 2 of Set 8 | huilong\n",
      "Processing Record 3 of Set 8 | shubarkuduk\n",
      "Processing Record 4 of Set 8 | ilanskiy\n",
      "Processing Record 5 of Set 8 | los algarrobos\n",
      "Processing Record 6 of Set 8 | port keats\n",
      "Processing Record 7 of Set 8 | dingle\n",
      "Processing Record 8 of Set 8 | pimentel\n",
      "Processing Record 9 of Set 8 | gizo\n",
      "Processing Record 10 of Set 8 | zhicheng\n",
      "Processing Record 11 of Set 8 | warwick\n",
      "Processing Record 12 of Set 8 | amahai\n",
      "Processing Record 13 of Set 8 | kaeo\n",
      "Processing Record 14 of Set 8 | chapais\n",
      "Processing Record 15 of Set 8 | aktyubinskiy\n",
      "Processing Record 16 of Set 8 | keffi\n",
      "Processing Record 17 of Set 8 | russell\n",
      "Processing Record 18 of Set 8 | lethem\n",
      "City not found. Skipping...\n",
      "Processing Record 19 of Set 8 | goderich\n",
      "City not found. Skipping...\n",
      "Processing Record 20 of Set 8 | berlevag\n"
     ]
    },
    {
     "name": "stdout",
     "output_type": "stream",
     "text": [
      "Processing Record 21 of Set 8 | maldonado\n",
      "Processing Record 22 of Set 8 | boa vista\n",
      "Processing Record 23 of Set 8 | fare\n",
      "Processing Record 24 of Set 8 | guiyang\n",
      "Processing Record 25 of Set 8 | arkhara\n",
      "Processing Record 26 of Set 8 | degtyarsk\n",
      "Processing Record 27 of Set 8 | gravdal\n",
      "Processing Record 28 of Set 8 | salalah\n",
      "Processing Record 29 of Set 8 | abbeville\n",
      "Processing Record 30 of Set 8 | kloulklubed\n",
      "Processing Record 31 of Set 8 | tiarei\n",
      "Processing Record 32 of Set 8 | shush\n",
      "Processing Record 33 of Set 8 | koslan\n",
      "Processing Record 34 of Set 8 | aykhal\n",
      "Processing Record 35 of Set 8 | rorvik\n",
      "Processing Record 36 of Set 8 | lampari\n",
      "Processing Record 37 of Set 8 | aksu\n",
      "Processing Record 38 of Set 8 | bahia blanca\n",
      "Processing Record 39 of Set 8 | bombay\n",
      "City not found. Skipping...\n",
      "Processing Record 40 of Set 8 | san buenaventura\n",
      "Processing Record 41 of Set 8 | murgab\n",
      "Processing Record 42 of Set 8 | bellevue\n",
      "Processing Record 43 of Set 8 | gazanjyk\n",
      "Processing Record 44 of Set 8 | hay river\n",
      "Processing Record 45 of Set 8 | tapes\n",
      "Processing Record 46 of Set 8 | chunskiy\n",
      "Processing Record 47 of Set 8 | mount gambier\n",
      "Processing Record 48 of Set 8 | puerto narino\n",
      "Processing Record 49 of Set 8 | makasar\n",
      "Processing Record 50 of Set 8 | nemuro\n",
      "Processing Record 1 of Set 9 | caibarien\n",
      "Processing Record 2 of Set 9 | aracati\n",
      "Processing Record 3 of Set 9 | pachino\n",
      "Processing Record 4 of Set 9 | arlit\n",
      "Processing Record 5 of Set 9 | faya\n",
      "Processing Record 6 of Set 9 | akyab\n",
      "Processing Record 7 of Set 9 | san vicente\n",
      "Processing Record 8 of Set 9 | campbell river\n",
      "Processing Record 9 of Set 9 | yarada\n",
      "Processing Record 10 of Set 9 | gimli\n",
      "Processing Record 11 of Set 9 | mnogovershinnyy\n",
      "Processing Record 12 of Set 9 | waitati\n",
      "Processing Record 13 of Set 9 | ambon\n",
      "Processing Record 14 of Set 9 | mehamn\n",
      "Processing Record 15 of Set 9 | jumla\n",
      "Processing Record 16 of Set 9 | necochea\n",
      "Processing Record 17 of Set 9 | tolaga bay\n",
      "Processing Record 18 of Set 9 | ixtapa\n",
      "City not found. Skipping...\n",
      "City not found. Skipping...\n",
      "Processing Record 19 of Set 9 | omsukchan\n",
      "Processing Record 20 of Set 9 | agirish\n",
      "Processing Record 21 of Set 9 | cayon\n",
      "Processing Record 22 of Set 9 | senneterre\n",
      "Processing Record 23 of Set 9 | acapulco\n",
      "Processing Record 24 of Set 9 | bodden town\n",
      "Processing Record 25 of Set 9 | gat\n",
      "Processing Record 26 of Set 9 | shache\n",
      "Processing Record 27 of Set 9 | quang ngai\n",
      "Processing Record 28 of Set 9 | dawei\n",
      "Processing Record 29 of Set 9 | punganuru\n",
      "Processing Record 30 of Set 9 | requena\n",
      "Processing Record 31 of Set 9 | oktyabrskoye\n",
      "Processing Record 32 of Set 9 | vanimo\n",
      "City not found. Skipping...\n",
      "Processing Record 33 of Set 9 | quatre cocos\n",
      "Processing Record 34 of Set 9 | porto santo\n",
      "Processing Record 35 of Set 9 | sawtell\n",
      "Processing Record 36 of Set 9 | mao\n",
      "Processing Record 37 of Set 9 | akdepe\n",
      "Processing Record 38 of Set 9 | bismarck\n",
      "Processing Record 39 of Set 9 | xai-xai\n",
      "Processing Record 40 of Set 9 | tsumeb\n",
      "Processing Record 41 of Set 9 | tainan\n",
      "Processing Record 42 of Set 9 | karratha\n",
      "City not found. Skipping...\n",
      "Processing Record 43 of Set 9 | illapel\n",
      "Processing Record 44 of Set 9 | hualmay\n",
      "Processing Record 45 of Set 9 | lima\n",
      "Processing Record 46 of Set 9 | oskemen\n",
      "Processing Record 47 of Set 9 | angoche\n",
      "Processing Record 48 of Set 9 | areia branca\n",
      "Processing Record 49 of Set 9 | pacific grove\n",
      "Processing Record 50 of Set 9 | gushikawa\n",
      "Processing Record 1 of Set 10 | dunedin\n",
      "Processing Record 2 of Set 10 | nampula\n",
      "City not found. Skipping...\n",
      "Processing Record 3 of Set 10 | kamaishi\n",
      "Processing Record 4 of Set 10 | nizhniy kuranakh\n",
      "Processing Record 5 of Set 10 | kutum\n",
      "Processing Record 6 of Set 10 | san policarpo\n",
      "Processing Record 7 of Set 10 | makakilo city\n",
      "City not found. Skipping...\n",
      "Processing Record 8 of Set 10 | belyy\n",
      "Processing Record 9 of Set 10 | teya\n",
      "Processing Record 10 of Set 10 | kavaratti\n",
      "Processing Record 11 of Set 10 | general roca\n",
      "Processing Record 12 of Set 10 | agapovka\n",
      "Processing Record 13 of Set 10 | hofn\n",
      "Processing Record 14 of Set 10 | ardmore\n",
      "City not found. Skipping...\n",
      "Processing Record 15 of Set 10 | skelleftea\n",
      "Processing Record 16 of Set 10 | cordoba\n",
      "Processing Record 17 of Set 10 | le port\n",
      "Processing Record 18 of Set 10 | puerto colombia\n",
      "Processing Record 19 of Set 10 | nishihara\n",
      "Processing Record 20 of Set 10 | yanacancha\n",
      "Processing Record 21 of Set 10 | saint-denis\n",
      "Processing Record 22 of Set 10 | staryy saltiv\n",
      "Processing Record 23 of Set 10 | newport\n",
      "Processing Record 24 of Set 10 | abu zabad\n",
      "Processing Record 25 of Set 10 | kralendijk\n",
      "Processing Record 26 of Set 10 | kamenka\n",
      "Processing Record 27 of Set 10 | roald\n",
      "City not found. Skipping...\n",
      "Processing Record 28 of Set 10 | baft\n",
      "Processing Record 29 of Set 10 | jasper\n",
      "Processing Record 30 of Set 10 | havoysund\n",
      "Processing Record 31 of Set 10 | port blair\n",
      "Processing Record 32 of Set 10 | eenhana\n",
      "Processing Record 33 of Set 10 | ust-maya\n",
      "Processing Record 34 of Set 10 | northam\n",
      "City not found. Skipping...\n",
      "Processing Record 35 of Set 10 | chulym\n",
      "Processing Record 36 of Set 10 | mbigou\n",
      "Processing Record 37 of Set 10 | dwarka\n",
      "Processing Record 38 of Set 10 | surin\n",
      "Processing Record 39 of Set 10 | poum\n",
      "Processing Record 40 of Set 10 | portland\n",
      "Processing Record 41 of Set 10 | leningradskiy\n",
      "Processing Record 42 of Set 10 | tuxpan\n",
      "Processing Record 43 of Set 10 | kirgiz-miyaki\n",
      "City not found. Skipping...\n",
      "Processing Record 44 of Set 10 | kilindoni\n",
      "City not found. Skipping...\n",
      "Processing Record 45 of Set 10 | alice springs\n",
      "Processing Record 46 of Set 10 | bucerias\n",
      "Processing Record 47 of Set 10 | kingsland\n",
      "Processing Record 48 of Set 10 | pangai\n",
      "Processing Record 49 of Set 10 | husavik\n",
      "Processing Record 50 of Set 10 | belyy yar\n",
      "Processing Record 1 of Set 11 | ust-nera\n",
      "Processing Record 2 of Set 11 | cape canaveral\n",
      "Processing Record 3 of Set 11 | aasiaat\n",
      "Processing Record 4 of Set 11 | bereda\n",
      "Processing Record 5 of Set 11 | lichinga\n",
      "Processing Record 6 of Set 11 | gamba\n",
      "Processing Record 7 of Set 11 | taitung\n",
      "Processing Record 8 of Set 11 | amapa\n",
      "Processing Record 9 of Set 11 | laela\n",
      "Processing Record 10 of Set 11 | state college\n",
      "Processing Record 11 of Set 11 | bilma\n",
      "Processing Record 12 of Set 11 | koumac\n",
      "Processing Record 13 of Set 11 | santa isabel do rio negro\n",
      "Processing Record 14 of Set 11 | miri\n",
      "Processing Record 15 of Set 11 | ayan\n",
      "Processing Record 16 of Set 11 | maine-soroa\n",
      "Processing Record 17 of Set 11 | atar\n",
      "Processing Record 18 of Set 11 | andros town\n",
      "Processing Record 19 of Set 11 | nenjiang\n",
      "Processing Record 20 of Set 11 | hirado\n",
      "Processing Record 21 of Set 11 | saint-pierre\n",
      "Processing Record 22 of Set 11 | henties bay\n",
      "Processing Record 23 of Set 11 | cessnock\n",
      "Processing Record 24 of Set 11 | riyadh\n",
      "Processing Record 25 of Set 11 | tonantins\n",
      "City not found. Skipping...\n",
      "Processing Record 26 of Set 11 | kijang\n",
      "Processing Record 27 of Set 11 | imeni poliny osipenko\n",
      "Processing Record 28 of Set 11 | hatillo\n",
      "Processing Record 29 of Set 11 | tooele\n",
      "Processing Record 30 of Set 11 | raga\n",
      "Processing Record 31 of Set 11 | urucara\n",
      "Processing Record 32 of Set 11 | mapiripan\n",
      "Processing Record 33 of Set 11 | panama city\n",
      "Processing Record 34 of Set 11 | anloga\n",
      "Processing Record 35 of Set 11 | acarau\n",
      "Processing Record 36 of Set 11 | liverpool\n",
      "Processing Record 37 of Set 11 | ouango\n",
      "Processing Record 38 of Set 11 | bertoua\n",
      "Processing Record 39 of Set 11 | kahului\n",
      "Processing Record 40 of Set 11 | codrington\n",
      "Processing Record 41 of Set 11 | maromitsa\n",
      "Processing Record 42 of Set 11 | tynda\n",
      "City not found. Skipping...\n",
      "Processing Record 43 of Set 11 | kesova gora\n",
      "Processing Record 44 of Set 11 | uyemskiy\n",
      "Processing Record 45 of Set 11 | birjand\n",
      "Processing Record 46 of Set 11 | itoman\n",
      "Processing Record 47 of Set 11 | kosonsoy\n",
      "Processing Record 48 of Set 11 | troy\n",
      "Processing Record 49 of Set 11 | goryachegorsk\n",
      "Processing Record 50 of Set 11 | pirovskoye\n",
      "Processing Record 1 of Set 12 | tilichiki\n",
      "Processing Record 2 of Set 12 | beihai\n",
      "Processing Record 3 of Set 12 | nioro\n",
      "Processing Record 4 of Set 12 | ust-tsilma\n",
      "Processing Record 5 of Set 12 | jiuquan\n",
      "City not found. Skipping...\n",
      "Processing Record 6 of Set 12 | ilave\n",
      "Processing Record 7 of Set 12 | ende\n",
      "Processing Record 8 of Set 12 | ayia marina\n",
      "Processing Record 9 of Set 12 | pakxan\n",
      "Processing Record 10 of Set 12 | japura\n",
      "City not found. Skipping...\n"
     ]
    },
    {
     "name": "stdout",
     "output_type": "stream",
     "text": [
      "Processing Record 11 of Set 12 | tessalit\n",
      "Processing Record 12 of Set 12 | atambua\n",
      "Processing Record 13 of Set 12 | taber\n",
      "Processing Record 14 of Set 12 | matara\n",
      "Processing Record 15 of Set 12 | zhigansk\n",
      "Processing Record 16 of Set 12 | nha trang\n",
      "Processing Record 17 of Set 12 | tambura\n",
      "Processing Record 18 of Set 12 | vangaindrano\n",
      "Processing Record 19 of Set 12 | banda aceh\n",
      "Processing Record 20 of Set 12 | douentza\n",
      "Processing Record 21 of Set 12 | cravo norte\n"
     ]
    }
   ],
   "source": [
    "url = \"http://api.openweathermap.org/data/2.5/weather?\"\n",
    "units = 'metric'\n",
    "query_url = f\"{url}appid={weather_api_key}&units={units}&q=\"\n",
    "\n",
    "cit = []\n",
    "lat = []\n",
    "lon = []\n",
    "temp = []\n",
    "hum = []\n",
    "cld = []\n",
    "wind = []\n",
    "country = []\n",
    "date = []\n",
    "print('Beginning Data Retrieval')\n",
    "print('-----------------------------')\n",
    "count = 1\n",
    "sets = 1\n",
    "for city in cities:\n",
    "    response = requests.get(query_url+str.title(city)).json()\n",
    "    try:\n",
    "        cit.append(response['name'])\n",
    "        lat.append(response['coord']['lat'])\n",
    "        lon.append(response['coord']['lon'])\n",
    "        temp.append(response['main']['temp_max'])\n",
    "        hum.append(response['main']['humidity'])\n",
    "        cld.append(response['clouds']['all'])\n",
    "        wind.append(response['wind']['speed'])\n",
    "        country.append(response['sys']['country'])\n",
    "        date.append(response['dt'])\n",
    "        print(f'Processing Record {count} of Set {sets} | {city}')\n",
    "        if count == 50:\n",
    "            count = 1\n",
    "            sets += 1\n",
    "        else: \n",
    "            count += 1\n",
    "    except:\n",
    "        print('City not found. Skipping...')\n",
    "        pass"
   ]
  },
  {
   "cell_type": "markdown",
   "metadata": {},
   "source": [
    "### Convert Raw Data to DataFrame\n",
    "* Export the city data into a .csv.\n",
    "* Display the DataFrame"
   ]
  },
  {
   "cell_type": "code",
   "execution_count": 5,
   "metadata": {},
   "outputs": [
    {
     "data": {
      "text/html": [
       "<div>\n",
       "<style scoped>\n",
       "    .dataframe tbody tr th:only-of-type {\n",
       "        vertical-align: middle;\n",
       "    }\n",
       "\n",
       "    .dataframe tbody tr th {\n",
       "        vertical-align: top;\n",
       "    }\n",
       "\n",
       "    .dataframe thead th {\n",
       "        text-align: right;\n",
       "    }\n",
       "</style>\n",
       "<table border=\"1\" class=\"dataframe\">\n",
       "  <thead>\n",
       "    <tr style=\"text-align: right;\">\n",
       "      <th></th>\n",
       "      <th>City</th>\n",
       "      <th>Lat</th>\n",
       "      <th>Lng</th>\n",
       "      <th>Max Temp</th>\n",
       "      <th>Humidity</th>\n",
       "      <th>Cloudiness</th>\n",
       "      <th>Wind Speed</th>\n",
       "      <th>Country</th>\n",
       "      <th>Date</th>\n",
       "    </tr>\n",
       "  </thead>\n",
       "  <tbody>\n",
       "    <tr>\n",
       "      <th>0</th>\n",
       "      <td>Charters Towers</td>\n",
       "      <td>-20.1000</td>\n",
       "      <td>146.2667</td>\n",
       "      <td>25.55</td>\n",
       "      <td>64</td>\n",
       "      <td>62</td>\n",
       "      <td>3.85</td>\n",
       "      <td>AU</td>\n",
       "      <td>1615033280</td>\n",
       "    </tr>\n",
       "    <tr>\n",
       "      <th>1</th>\n",
       "      <td>Sistranda</td>\n",
       "      <td>63.7256</td>\n",
       "      <td>8.8340</td>\n",
       "      <td>2.00</td>\n",
       "      <td>75</td>\n",
       "      <td>75</td>\n",
       "      <td>14.92</td>\n",
       "      <td>NO</td>\n",
       "      <td>1615033280</td>\n",
       "    </tr>\n",
       "    <tr>\n",
       "      <th>2</th>\n",
       "      <td>Kumul</td>\n",
       "      <td>42.8000</td>\n",
       "      <td>93.4500</td>\n",
       "      <td>7.54</td>\n",
       "      <td>49</td>\n",
       "      <td>36</td>\n",
       "      <td>2.24</td>\n",
       "      <td>CN</td>\n",
       "      <td>1615033280</td>\n",
       "    </tr>\n",
       "    <tr>\n",
       "      <th>3</th>\n",
       "      <td>Ancud</td>\n",
       "      <td>-41.8697</td>\n",
       "      <td>-73.8203</td>\n",
       "      <td>15.00</td>\n",
       "      <td>100</td>\n",
       "      <td>90</td>\n",
       "      <td>5.66</td>\n",
       "      <td>CL</td>\n",
       "      <td>1615033280</td>\n",
       "    </tr>\n",
       "    <tr>\n",
       "      <th>4</th>\n",
       "      <td>Ahipara</td>\n",
       "      <td>-35.1667</td>\n",
       "      <td>173.1667</td>\n",
       "      <td>17.43</td>\n",
       "      <td>87</td>\n",
       "      <td>100</td>\n",
       "      <td>3.20</td>\n",
       "      <td>NZ</td>\n",
       "      <td>1615033280</td>\n",
       "    </tr>\n",
       "  </tbody>\n",
       "</table>\n",
       "</div>"
      ],
      "text/plain": [
       "              City      Lat       Lng  Max Temp  Humidity  Cloudiness  \\\n",
       "0  Charters Towers -20.1000  146.2667     25.55        64          62   \n",
       "1        Sistranda  63.7256    8.8340      2.00        75          75   \n",
       "2            Kumul  42.8000   93.4500      7.54        49          36   \n",
       "3            Ancud -41.8697  -73.8203     15.00       100          90   \n",
       "4          Ahipara -35.1667  173.1667     17.43        87         100   \n",
       "\n",
       "   Wind Speed Country        Date  \n",
       "0        3.85      AU  1615033280  \n",
       "1       14.92      NO  1615033280  \n",
       "2        2.24      CN  1615033280  \n",
       "3        5.66      CL  1615033280  \n",
       "4        3.20      NZ  1615033280  "
      ]
     },
     "execution_count": 5,
     "metadata": {},
     "output_type": "execute_result"
    }
   ],
   "source": [
    "city_dict = {\n",
    "    'City': cit,\n",
    "    'Lat': lat,\n",
    "    'Lng': lon,\n",
    "    'Max Temp':temp,\n",
    "    'Humidity':hum,\n",
    "    'Cloudiness':cld,\n",
    "    'Wind Speed':wind,\n",
    "    'Country':country,\n",
    "    'Date':date\n",
    "}\n",
    "if not os.path.exists('output_data'):\n",
    "    os.makedirs('output_data')\n",
    "f = open(output_data_file, 'w')\n",
    "city_data= pd.DataFrame(city_dict)\n",
    "city_data.to_csv(output_data_file)\n",
    "city_data.head()"
   ]
  },
  {
   "cell_type": "code",
   "execution_count": 6,
   "metadata": {},
   "outputs": [
    {
     "data": {
      "text/html": [
       "<div>\n",
       "<style scoped>\n",
       "    .dataframe tbody tr th:only-of-type {\n",
       "        vertical-align: middle;\n",
       "    }\n",
       "\n",
       "    .dataframe tbody tr th {\n",
       "        vertical-align: top;\n",
       "    }\n",
       "\n",
       "    .dataframe thead th {\n",
       "        text-align: right;\n",
       "    }\n",
       "</style>\n",
       "<table border=\"1\" class=\"dataframe\">\n",
       "  <thead>\n",
       "    <tr style=\"text-align: right;\">\n",
       "      <th></th>\n",
       "      <th>Lat</th>\n",
       "      <th>Lng</th>\n",
       "      <th>Max Temp</th>\n",
       "      <th>Humidity</th>\n",
       "      <th>Cloudiness</th>\n",
       "      <th>Wind Speed</th>\n",
       "      <th>Date</th>\n",
       "    </tr>\n",
       "  </thead>\n",
       "  <tbody>\n",
       "    <tr>\n",
       "      <th>count</th>\n",
       "      <td>571.000000</td>\n",
       "      <td>571.000000</td>\n",
       "      <td>571.000000</td>\n",
       "      <td>571.000000</td>\n",
       "      <td>571.000000</td>\n",
       "      <td>571.000000</td>\n",
       "      <td>5.710000e+02</td>\n",
       "    </tr>\n",
       "    <tr>\n",
       "      <th>mean</th>\n",
       "      <td>20.236647</td>\n",
       "      <td>15.653365</td>\n",
       "      <td>12.325884</td>\n",
       "      <td>70.730298</td>\n",
       "      <td>54.931699</td>\n",
       "      <td>3.836217</td>\n",
       "      <td>1.615033e+09</td>\n",
       "    </tr>\n",
       "    <tr>\n",
       "      <th>std</th>\n",
       "      <td>32.856671</td>\n",
       "      <td>91.032907</td>\n",
       "      <td>16.910777</td>\n",
       "      <td>22.811142</td>\n",
       "      <td>38.548405</td>\n",
       "      <td>2.660195</td>\n",
       "      <td>6.331243e+01</td>\n",
       "    </tr>\n",
       "    <tr>\n",
       "      <th>min</th>\n",
       "      <td>-54.800000</td>\n",
       "      <td>-175.200000</td>\n",
       "      <td>-33.790000</td>\n",
       "      <td>1.000000</td>\n",
       "      <td>0.000000</td>\n",
       "      <td>0.080000</td>\n",
       "      <td>1.615033e+09</td>\n",
       "    </tr>\n",
       "    <tr>\n",
       "      <th>25%</th>\n",
       "      <td>-5.803450</td>\n",
       "      <td>-66.957300</td>\n",
       "      <td>1.000000</td>\n",
       "      <td>63.000000</td>\n",
       "      <td>11.500000</td>\n",
       "      <td>1.995000</td>\n",
       "      <td>1.615033e+09</td>\n",
       "    </tr>\n",
       "    <tr>\n",
       "      <th>50%</th>\n",
       "      <td>22.890900</td>\n",
       "      <td>17.944200</td>\n",
       "      <td>17.340000</td>\n",
       "      <td>77.000000</td>\n",
       "      <td>75.000000</td>\n",
       "      <td>3.190000</td>\n",
       "      <td>1.615033e+09</td>\n",
       "    </tr>\n",
       "    <tr>\n",
       "      <th>75%</th>\n",
       "      <td>48.566750</td>\n",
       "      <td>96.096750</td>\n",
       "      <td>25.940000</td>\n",
       "      <td>87.000000</td>\n",
       "      <td>90.000000</td>\n",
       "      <td>5.140000</td>\n",
       "      <td>1.615033e+09</td>\n",
       "    </tr>\n",
       "    <tr>\n",
       "      <th>max</th>\n",
       "      <td>78.218600</td>\n",
       "      <td>178.416700</td>\n",
       "      <td>40.840000</td>\n",
       "      <td>100.000000</td>\n",
       "      <td>100.000000</td>\n",
       "      <td>19.540000</td>\n",
       "      <td>1.615033e+09</td>\n",
       "    </tr>\n",
       "  </tbody>\n",
       "</table>\n",
       "</div>"
      ],
      "text/plain": [
       "              Lat         Lng    Max Temp    Humidity  Cloudiness  Wind Speed  \\\n",
       "count  571.000000  571.000000  571.000000  571.000000  571.000000  571.000000   \n",
       "mean    20.236647   15.653365   12.325884   70.730298   54.931699    3.836217   \n",
       "std     32.856671   91.032907   16.910777   22.811142   38.548405    2.660195   \n",
       "min    -54.800000 -175.200000  -33.790000    1.000000    0.000000    0.080000   \n",
       "25%     -5.803450  -66.957300    1.000000   63.000000   11.500000    1.995000   \n",
       "50%     22.890900   17.944200   17.340000   77.000000   75.000000    3.190000   \n",
       "75%     48.566750   96.096750   25.940000   87.000000   90.000000    5.140000   \n",
       "max     78.218600  178.416700   40.840000  100.000000  100.000000   19.540000   \n",
       "\n",
       "               Date  \n",
       "count  5.710000e+02  \n",
       "mean   1.615033e+09  \n",
       "std    6.331243e+01  \n",
       "min    1.615033e+09  \n",
       "25%    1.615033e+09  \n",
       "50%    1.615033e+09  \n",
       "75%    1.615033e+09  \n",
       "max    1.615033e+09  "
      ]
     },
     "execution_count": 6,
     "metadata": {},
     "output_type": "execute_result"
    }
   ],
   "source": [
    "city_data.describe()"
   ]
  },
  {
   "cell_type": "markdown",
   "metadata": {},
   "source": [
    "# Inspect the data and remove the cities where the humidity > 100%.\n",
    "----\n",
    "Skip this step if there are no cities that have humidity > 100%. "
   ]
  },
  {
   "cell_type": "code",
   "execution_count": 7,
   "metadata": {},
   "outputs": [
    {
     "data": {
      "text/html": [
       "<div>\n",
       "<style scoped>\n",
       "    .dataframe tbody tr th:only-of-type {\n",
       "        vertical-align: middle;\n",
       "    }\n",
       "\n",
       "    .dataframe tbody tr th {\n",
       "        vertical-align: top;\n",
       "    }\n",
       "\n",
       "    .dataframe thead th {\n",
       "        text-align: right;\n",
       "    }\n",
       "</style>\n",
       "<table border=\"1\" class=\"dataframe\">\n",
       "  <thead>\n",
       "    <tr style=\"text-align: right;\">\n",
       "      <th></th>\n",
       "      <th>City</th>\n",
       "      <th>Lat</th>\n",
       "      <th>Lng</th>\n",
       "      <th>Max Temp</th>\n",
       "      <th>Humidity</th>\n",
       "      <th>Cloudiness</th>\n",
       "      <th>Wind Speed</th>\n",
       "      <th>Country</th>\n",
       "      <th>Date</th>\n",
       "    </tr>\n",
       "  </thead>\n",
       "  <tbody>\n",
       "  </tbody>\n",
       "</table>\n",
       "</div>"
      ],
      "text/plain": [
       "Empty DataFrame\n",
       "Columns: [City, Lat, Lng, Max Temp, Humidity, Cloudiness, Wind Speed, Country, Date]\n",
       "Index: []"
      ]
     },
     "execution_count": 7,
     "metadata": {},
     "output_type": "execute_result"
    }
   ],
   "source": [
    "city_hum = city_data.loc[city_data['Humidity']> 100]\n",
    "city_hum"
   ]
  },
  {
   "cell_type": "code",
   "execution_count": 44,
   "metadata": {},
   "outputs": [],
   "source": [
    "#  Get the indices of cities that have humidity over 100%.\n"
   ]
  },
  {
   "cell_type": "code",
   "execution_count": 8,
   "metadata": {},
   "outputs": [],
   "source": [
    "# Make a new DataFrame equal to the city data to drop all humidity outliers by index.\n",
    "# Passing \"inplace=False\" will make a copy of the city_data DataFrame, which we call \"clean_city_data\".\n",
    "clean_city_data = city_data.loc[city_data['Humidity']<101]"
   ]
  },
  {
   "cell_type": "code",
   "execution_count": 54,
   "metadata": {},
   "outputs": [],
   "source": []
  },
  {
   "cell_type": "markdown",
   "metadata": {},
   "source": [
    "## Plotting the Data\n",
    "* Use proper labeling of the plots using plot titles (including date of analysis) and axes labels.\n",
    "* Save the plotted figures as .pngs."
   ]
  },
  {
   "cell_type": "markdown",
   "metadata": {},
   "source": [
    "## Latitude vs. Temperature Plot"
   ]
  },
  {
   "cell_type": "code",
   "execution_count": 9,
   "metadata": {
    "scrolled": true
   },
   "outputs": [
    {
     "data": {
      "image/png": "[encoded data removed]",
      "text/plain": [
       "<Figure size 432x288 with 1 Axes>"
      ]
     },
     "metadata": {
      "needs_background": "light"
     },
     "output_type": "display_data"
    },
    {
     "data": {
      "text/plain": [
       "<Figure size 432x288 with 0 Axes>"
      ]
     },
     "metadata": {},
     "output_type": "display_data"
    }
   ],
   "source": [
    "plt.scatter(lat, temp, marker=\"o\")\n",
    "plt.title('City Latitude vs. Max Temperature')\n",
    "plt.ylabel(\"Max Temperature (Celsius)\")\n",
    "plt.xlabel(\"Latitude\")\n",
    "plt.grid(True)\n",
    "plt.show()\n",
    "plt.savefig('output_data/latvtemp.png')\n"
   ]
  },
  {
   "cell_type": "markdown",
   "metadata": {},
   "source": [
    "## Latitude vs. Humidity Plot"
   ]
  },
  {
   "cell_type": "code",
   "execution_count": 10,
   "metadata": {},
   "outputs": [
    {
     "data": {
      "image/png": "[encoded data removed]",
      "text/plain": [
       "<Figure size 432x288 with 1 Axes>"
      ]
     },
     "metadata": {
      "needs_background": "light"
     },
     "output_type": "display_data"
    },
    {
     "data": {
      "text/plain": [
       "<Figure size 432x288 with 0 Axes>"
      ]
     },
     "metadata": {},
     "output_type": "display_data"
    }
   ],
   "source": [
    "plt.scatter(lat, hum, marker=\"o\")\n",
    "plt.title('City Latitude vs. Humidity')\n",
    "plt.ylabel(\"Humidity (%)\")\n",
    "plt.xlabel(\"Latitude\")\n",
    "plt.grid(True)\n",
    "plt.show()\n",
    "plt.savefig('output_data/latvhum.png')"
   ]
  },
  {
   "cell_type": "markdown",
   "metadata": {},
   "source": [
    "## Latitude vs. Cloudiness Plot"
   ]
  },
  {
   "cell_type": "code",
   "execution_count": 14,
   "metadata": {},
   "outputs": [
    {
     "data": {
      "image/png": "[encoded data removed]",
      "text/plain": [
       "<Figure size 432x288 with 1 Axes>"
      ]
     },
     "metadata": {
      "needs_background": "light"
     },
     "output_type": "display_data"
    },
    {
     "data": {
      "text/plain": [
       "<Figure size 432x288 with 0 Axes>"
      ]
     },
     "metadata": {},
     "output_type": "display_data"
    }
   ],
   "source": [
    "plt.scatter(lat, cld, marker=\"o\")\n",
    "plt.title('City Latitude vs. Cloudiness')\n",
    "plt.ylabel(\"Cloudiness (%)\")\n",
    "plt.xlabel(\"Latitude\")\n",
    "plt.grid(True)\n",
    "plt.show()\n",
    "plt.savefig('output_data/latvcloud.png')"
   ]
  },
  {
   "cell_type": "markdown",
   "metadata": {},
   "source": [
    "## Latitude vs. Wind Speed Plot"
   ]
  },
  {
   "cell_type": "code",
   "execution_count": 12,
   "metadata": {},
   "outputs": [
    {
     "data": {
      "image/png": "[encoded data removed]",
      "text/plain": [
       "<Figure size 432x288 with 1 Axes>"
      ]
     },
     "metadata": {
      "needs_background": "light"
     },
     "output_type": "display_data"
    },
    {
     "data": {
      "text/plain": [
       "<Figure size 432x288 with 0 Axes>"
      ]
     },
     "metadata": {},
     "output_type": "display_data"
    }
   ],
   "source": [
    "plt.scatter(lat, wind, marker=\"o\")\n",
    "plt.title('City Latitude vs. Wind Speed')\n",
    "plt.ylabel(\"Wind Speed (kph)\")\n",
    "plt.xlabel(\"Latitude\")\n",
    "plt.grid(True)\n",
    "plt.show()\n",
    "plt.savefig('output_data/latvwind.png')"
   ]
  },
  {
   "cell_type": "markdown",
   "metadata": {},
   "source": [
    "## Linear Regression"
   ]
  },
  {
   "cell_type": "code",
   "execution_count": 13,
   "metadata": {},
   "outputs": [],
   "source": [
    "north_data = city_data.loc[city_data['Lat']>= 0 ]\n",
    "south_data = city_data.loc[city_data['Lat']< 0 ]"
   ]
  },
  {
   "cell_type": "markdown",
   "metadata": {},
   "source": [
    "####  Northern Hemisphere - Max Temp vs. Latitude Linear Regression"
   ]
  },
  {
   "cell_type": "code",
   "execution_count": 15,
   "metadata": {},
   "outputs": [
    {
     "data": {
      "image/png": "[encoded data removed]",
      "text/plain": [
       "<Figure size 432x288 with 1 Axes>"
      ]
     },
     "metadata": {
      "needs_background": "light"
     },
     "output_type": "display_data"
    },
    {
     "name": "stdout",
     "output_type": "stream",
     "text": [
      "The r-value is: -0.8774656491574462\n",
      "The r-squared is: 0.7699459654512985\n"
     ]
    }
   ],
   "source": [
    "x_ax = north_data['Lat']\n",
    "y_ax = north_data['Max Temp']\n",
    "plt.scatter(x_ax, y_ax, marker=\"o\")\n",
    "(slope, intercept, rvalue, pvalue, stderr) = lg(x_ax, y_ax)\n",
    "reg_val = x_ax * slope + intercept\n",
    "leq = \"y = \" + str(round(slope,2)) + \"x + \" + str(round(intercept,2))\n",
    "plt.annotate(leq,(0,-10),fontsize=15,color=\"black\")\n",
    "plt.plot(x_ax,reg_val,\"r-\")\n",
    "plt.title('Northern Hemisphere Latitude vs. Max Temperature')\n",
    "plt.ylabel(\"Max Temperature (Celsius)\")\n",
    "plt.xlabel(\"Latitude\")\n",
    "plt.show()\n",
    "print(f'The r-value is: {rvalue}')\n",
    "print(f'The r-squared is: {rvalue**2}')"
   ]
  },
  {
   "cell_type": "markdown",
   "metadata": {},
   "source": [
    "####  Southern Hemisphere - Max Temp vs. Latitude Linear Regression"
   ]
  },
  {
   "cell_type": "code",
   "execution_count": 16,
   "metadata": {},
   "outputs": [
    {
     "data": {
      "image/png": "[encoded data removed]",
      "text/plain": [
       "<Figure size 432x288 with 1 Axes>"
      ]
     },
     "metadata": {
      "needs_background": "light"
     },
     "output_type": "display_data"
    },
    {
     "name": "stdout",
     "output_type": "stream",
     "text": [
      "The r-value is: 0.5931272964937383\n",
      "The r-squared is: 0.35179998984597094\n"
     ]
    }
   ],
   "source": [
    "x_ax = south_data['Lat']\n",
    "y_ax = south_data['Max Temp']\n",
    "plt.scatter(x_ax, y_ax, marker=\"o\")\n",
    "(slope, intercept, rvalue, pvalue, stderr) = lg(x_ax, y_ax)\n",
    "reg_val = x_ax * slope + intercept\n",
    "leq = \"y = \" + str(round(slope,2)) + \"x + \" + str(round(intercept,2))\n",
    "plt.annotate(leq,(-40,-0),fontsize=15,color=\"black\")\n",
    "plt.plot(x_ax,reg_val,\"r-\")\n",
    "plt.title('Southern Hemisphere Latitude vs. Max Temperature')\n",
    "plt.ylabel(\"Max Temperature (Celsius)\")\n",
    "plt.xlabel(\"Latitude\")\n",
    "plt.show()\n",
    "print(f'The r-value is: {rvalue}')\n",
    "print(f'The r-squared is: {rvalue**2}')"
   ]
  },
  {
   "cell_type": "markdown",
   "metadata": {},
   "source": [
    "####  Northern Hemisphere - Humidity (%) vs. Latitude Linear Regression"
   ]
  },
  {
   "cell_type": "code",
   "execution_count": 17,
   "metadata": {},
   "outputs": [
    {
     "data": {
      "image/png": "[encoded data removed]",
      "text/plain": [
       "<Figure size 432x288 with 1 Axes>"
      ]
     },
     "metadata": {
      "needs_background": "light"
     },
     "output_type": "display_data"
    },
    {
     "name": "stdout",
     "output_type": "stream",
     "text": [
      "The r-value is: 0.3657864407480949\n",
      "The r-squared is: 0.13379972023515954\n"
     ]
    }
   ],
   "source": [
    "x_ax = north_data['Lat']\n",
    "y_ax = north_data['Humidity']\n",
    "plt.scatter(x_ax, y_ax, marker=\"o\")\n",
    "(slope, intercept, rvalue, pvalue, stderr) = lg(x_ax, y_ax)\n",
    "reg_val = x_ax * slope + intercept\n",
    "leq = \"y = \" + str(round(slope,2)) + \"x + \" + str(round(intercept,2))\n",
    "plt.annotate(leq,(40,0),fontsize=15,color=\"black\")\n",
    "plt.plot(x_ax,reg_val,\"r-\")\n",
    "plt.title('Northern Hemisphere Latitude vs. Humidity')\n",
    "plt.ylabel(\"Humidity (%)\")\n",
    "plt.xlabel(\"Latitude\")\n",
    "plt.show()\n",
    "print(f'The r-value is: {rvalue}')\n",
    "print(f'The r-squared is: {rvalue**2}')"
   ]
  },
  {
   "cell_type": "markdown",
   "metadata": {},
   "source": [
    "####  Southern Hemisphere - Humidity (%) vs. Latitude Linear Regression"
   ]
  },
  {
   "cell_type": "code",
   "execution_count": 18,
   "metadata": {},
   "outputs": [
    {
     "data": {
      "image/png": "[encoded data removed]",
      "text/plain": [
       "<Figure size 432x288 with 1 Axes>"
      ]
     },
     "metadata": {
      "needs_background": "light"
     },
     "output_type": "display_data"
    },
    {
     "name": "stdout",
     "output_type": "stream",
     "text": [
      "The r-value is: 0.18281041226195147\n",
      "The r-squared is: 0.03341964683138465\n"
     ]
    }
   ],
   "source": [
    "x_ax = south_data['Lat']\n",
    "y_ax = south_data['Humidity']\n",
    "plt.scatter(x_ax, y_ax, marker=\"o\")\n",
    "(slope, intercept, rvalue, pvalue, stderr) = lg(x_ax, y_ax)\n",
    "reg_val = x_ax * slope + intercept\n",
    "leq = \"y = \" + str(round(slope,2)) + \"x + \" + str(round(intercept,2))\n",
    "plt.annotate(leq,(40,0),fontsize=15,color=\"black\")\n",
    "plt.plot(x_ax,reg_val,\"r-\")\n",
    "plt.title('Southern Hemisphere Latitude vs. Humidity')\n",
    "plt.ylabel(\"Humidity (%)\")\n",
    "plt.xlabel(\"Latitude\")\n",
    "plt.show()\n",
    "print(f'The r-value is: {rvalue}')\n",
    "print(f'The r-squared is: {rvalue**2}')"
   ]
  },
  {
   "cell_type": "markdown",
   "metadata": {},
   "source": [
    "####  Northern Hemisphere - Cloudiness (%) vs. Latitude Linear Regression"
   ]
  },
  {
   "cell_type": "code",
   "execution_count": 19,
   "metadata": {},
   "outputs": [
    {
     "data": {
      "image/png": "[encoded data removed]",
      "text/plain": [
       "<Figure size 432x288 with 1 Axes>"
      ]
     },
     "metadata": {
      "needs_background": "light"
     },
     "output_type": "display_data"
    },
    {
     "name": "stdout",
     "output_type": "stream",
     "text": [
      "The r-value is: 0.3259538361959616\n",
      "The r-squared is: 0.10624590333086376\n"
     ]
    }
   ],
   "source": [
    "x_ax = north_data['Lat']\n",
    "y_ax = north_data['Cloudiness']\n",
    "plt.scatter(x_ax, y_ax, marker=\"o\")\n",
    "(slope, intercept, rvalue, pvalue, stderr) = lg(x_ax, y_ax)\n",
    "reg_val = x_ax * slope + intercept\n",
    "leq = \"y = \" + str(round(slope,2)) + \"x + \" + str(round(intercept,2))\n",
    "plt.annotate(leq,(40,26),fontsize=15,color=\"black\")\n",
    "plt.plot(x_ax,reg_val,\"r-\")\n",
    "plt.title('Northern Hemisphere Latitude vs. Cloudiness')\n",
    "plt.ylabel(\"Cloudiness (%)\")\n",
    "plt.xlabel(\"Latitude\")\n",
    "plt.show()\n",
    "print(f'The r-value is: {rvalue}')\n",
    "print(f'The r-squared is: {rvalue**2}')"
   ]
  },
  {
   "cell_type": "markdown",
   "metadata": {},
   "source": [
    "####  Southern Hemisphere - Cloudiness (%) vs. Latitude Linear Regression"
   ]
  },
  {
   "cell_type": "code",
   "execution_count": 20,
   "metadata": {},
   "outputs": [
    {
     "data": {
      "image/png": "[encoded data removed]",
      "text/plain": [
       "<Figure size 432x288 with 1 Axes>"
      ]
     },
     "metadata": {
      "needs_background": "light"
     },
     "output_type": "display_data"
    },
    {
     "name": "stdout",
     "output_type": "stream",
     "text": [
      "The r-value is: 0.1698468550636667\n",
      "The r-squared is: 0.028847954175018203\n"
     ]
    }
   ],
   "source": [
    "x_ax = south_data['Lat']\n",
    "y_ax = south_data['Cloudiness']\n",
    "plt.scatter(x_ax, y_ax, marker=\"o\")\n",
    "(slope, intercept, rvalue, pvalue, stderr) = lg(x_ax, y_ax)\n",
    "reg_val = x_ax * slope + intercept\n",
    "leq = \"y = \" + str(round(slope,2)) + \"x + \" + str(round(intercept,2))\n",
    "plt.annotate(leq,(-25,50),fontsize=15,color=\"black\")\n",
    "plt.plot(x_ax,reg_val,\"r-\")\n",
    "plt.title('Southern Hemisphere Latitude vs. Cloudiness')\n",
    "plt.ylabel(\"Cloudiness (%)\")\n",
    "plt.xlabel(\"Latitude\")\n",
    "plt.show()\n",
    "print(f'The r-value is: {rvalue}')\n",
    "print(f'The r-squared is: {rvalue**2}')"
   ]
  },
  {
   "cell_type": "markdown",
   "metadata": {},
   "source": [
    "####  Northern Hemisphere - Wind Speed (mph) vs. Latitude Linear Regression"
   ]
  },
  {
   "cell_type": "code",
   "execution_count": 21,
   "metadata": {},
   "outputs": [
    {
     "data": {
      "image/png": "[encoded data removed]",
      "text/plain": [
       "<Figure size 432x288 with 1 Axes>"
      ]
     },
     "metadata": {
      "needs_background": "light"
     },
     "output_type": "display_data"
    },
    {
     "name": "stdout",
     "output_type": "stream",
     "text": [
      "The r-value is: 0.11428162324452287\n",
      "The r-squared is: 0.01306028941140307\n"
     ]
    }
   ],
   "source": [
    "x_ax = north_data['Lat']\n",
    "y_ax = north_data['Wind Speed']\n",
    "plt.scatter(x_ax, y_ax, marker=\"o\")\n",
    "(slope, intercept, rvalue, pvalue, stderr) = lg(x_ax, y_ax)\n",
    "reg_val = x_ax * slope + intercept\n",
    "leq = \"y = \" + str(round(slope,2)) + \"x + \" + str(round(intercept,2))\n",
    "plt.annotate(leq,(5,15),fontsize=15,color=\"black\")\n",
    "plt.plot(x_ax,reg_val,\"r-\")\n",
    "plt.title('Northern Hemisphere Latitude vs. Wind Speed')\n",
    "plt.ylabel(\"Wind Speed (kph)\")\n",
    "plt.xlabel(\"Latitude\")\n",
    "plt.show()\n",
    "print(f'The r-value is: {rvalue}')\n",
    "print(f'The r-squared is: {rvalue**2}')"
   ]
  },
  {
   "cell_type": "markdown",
   "metadata": {},
   "source": [
    "####  Southern Hemisphere - Wind Speed (mph) vs. Latitude Linear Regression"
   ]
  },
  {
   "cell_type": "code",
   "execution_count": 22,
   "metadata": {},
   "outputs": [
    {
     "data": {
      "image/png": "[encoded data removed]",
      "text/plain": [
       "<Figure size 432x288 with 1 Axes>"
      ]
     },
     "metadata": {
      "needs_background": "light"
     },
     "output_type": "display_data"
    },
    {
     "name": "stdout",
     "output_type": "stream",
     "text": [
      "The r-value is: -0.0957733261163163\n",
      "The r-squared is: 0.009172529995382274\n"
     ]
    }
   ],
   "source": [
    "x_ax = south_data['Lat']\n",
    "y_ax = south_data['Wind Speed']\n",
    "plt.scatter(x_ax, y_ax, marker=\"o\")\n",
    "(slope, intercept, rvalue, pvalue, stderr) = lg(x_ax, y_ax)\n",
    "reg_val = x_ax * slope + intercept\n",
    "leq = \"y = \" + str(round(slope,2)) + \"x + \" + str(round(intercept,2))\n",
    "plt.annotate(leq,(-55,15),fontsize=15,color=\"black\")\n",
    "plt.plot(x_ax,reg_val,\"r-\")\n",
    "plt.title('Southern Hemisphere Latitude vs. Wind Speed')\n",
    "plt.ylabel(\"Wind Speed (kph)\")\n",
    "plt.xlabel(\"Latitude\")\n",
    "plt.show()\n",
    "print(f'The r-value is: {rvalue}')\n",
    "print(f'The r-squared is: {rvalue**2}')"
   ]
  },
  {
   "cell_type": "code",
   "execution_count": null,
   "metadata": {},
   "outputs": [],
   "source": []
  }
 ],
 "metadata": {
  "anaconda-cloud": {},
  "kernel_info": {
   "name": "python3"
  },
  "kernelspec": {
   "display_name": "Python 3",
   "language": "python",
   "name": "python3"
  },
  "language_info": {
   "codemirror_mode": {
    "name": "ipython",
    "version": 3
   },
   "file_extension": ".py",
   "mimetype": "text/x-python",
   "name": "python",
   "nbconvert_exporter": "python",
   "pygments_lexer": "ipython3",
   "version": "3.8.5"
  },
  "latex_envs": {
   "LaTeX_envs_menu_present": true,
   "autoclose": false,
   "autocomplete": true,
   "bibliofile": "biblio.bib",
   "cite_by": "apalike",
   "current_citInitial": 1,
   "eqLabelWithNumbers": true,
   "eqNumInitial": 1,
   "hotkeys": {
    "equation": "Ctrl-E",
    "itemize": "Ctrl-I"
   },
   "labels_anchors": false,
   "latex_user_defs": false,
   "report_style_numbering": false,
   "user_envs_cfg": false
  },
  "nteract": {
   "version": "0.12.3"
  }
 },
 "nbformat": 4,
 "nbformat_minor": 2
}
